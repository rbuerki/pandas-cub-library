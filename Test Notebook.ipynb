{
 "cells": [
  {
   "cell_type": "markdown",
   "metadata": {},
   "source": [
    "# Test pandas_cub manually\n",
    "\n",
    "In this notebook, we will test pandas_cub manually."
   ]
  },
  {
   "cell_type": "code",
   "execution_count": 1,
   "metadata": {
    "ExecuteTime": {
     "end_time": "2020-06-28T12:20:20.811147Z",
     "start_time": "2020-06-28T12:20:20.786119Z"
    }
   },
   "outputs": [
    {
     "data": {
      "text/plain": [
       "'C:\\\\Users\\\\r2d4\\\\miniconda3\\\\envs\\\\py3\\\\python.exe'"
      ]
     },
     "execution_count": 1,
     "metadata": {},
     "output_type": "execute_result"
    }
   ],
   "source": [
    "import sys\n",
    "sys.executable"
   ]
  },
  {
   "cell_type": "code",
   "execution_count": 2,
   "metadata": {
    "ExecuteTime": {
     "end_time": "2020-06-28T12:20:21.626566Z",
     "start_time": "2020-06-28T12:20:21.528571Z"
    }
   },
   "outputs": [],
   "source": [
    "%load_ext autoreload\n",
    "%autoreload 2"
   ]
  },
  {
   "cell_type": "code",
   "execution_count": 3,
   "metadata": {
    "ExecuteTime": {
     "end_time": "2020-06-28T12:20:23.041600Z",
     "start_time": "2020-06-28T12:20:22.452572Z"
    }
   },
   "outputs": [],
   "source": [
    "import numpy as np\n",
    "import pandas_cub as pdc\n",
    "import pandas_cub_final as pdcf\n",
    "import pandas as pd"
   ]
  },
  {
   "cell_type": "code",
   "execution_count": 4,
   "metadata": {
    "ExecuteTime": {
     "end_time": "2020-06-28T12:20:27.446646Z",
     "start_time": "2020-06-28T12:20:27.339647Z"
    }
   },
   "outputs": [],
   "source": [
    "name = np.array(['Penelope', 'Niko', 'Eleni'])\n",
    "state = np.array(['Texas', 'California', 'Texas'])\n",
    "height = np.array([3.6, 3.5, 5.2])\n",
    "school = np.array([True, False, True])\n",
    "weight = np.array([45, 40, 130])\n",
    "\n",
    "data = {'name': name, 'state': state, 'height': height, \n",
    "        'school': school, 'weight': weight}\n",
    "\n",
    "df = pdc.DataFrame(data)\n",
    "df_final = pdcf.DataFrame(data)\n",
    "df_pandas = pd.DataFrame(data)"
   ]
  },
  {
   "cell_type": "code",
   "execution_count": 5,
   "metadata": {
    "ExecuteTime": {
     "end_time": "2020-06-28T12:20:28.989665Z",
     "start_time": "2020-06-28T12:20:28.875663Z"
    }
   },
   "outputs": [
    {
     "data": {
      "text/plain": [
       "<pandas_cub.DataFrame at 0x19af8777160>"
      ]
     },
     "execution_count": 5,
     "metadata": {},
     "output_type": "execute_result"
    }
   ],
   "source": [
    "df"
   ]
  },
  {
   "cell_type": "code",
   "execution_count": 6,
   "metadata": {
    "ExecuteTime": {
     "end_time": "2020-06-28T12:20:30.454857Z",
     "start_time": "2020-06-28T12:20:30.354857Z"
    }
   },
   "outputs": [
    {
     "data": {
      "text/html": [
       "<table><thead><tr><th></th><th>name      </th><th>state     </th><th>height    </th><th>school    </th><th>weight    </th></tr></thead><tbody><tr><td><strong>0</strong></td><td>Penelope  </td><td>Texas     </td><td>     3.600</td><td>True</td><td>        45</td></tr><tr><td><strong>1</strong></td><td>Niko      </td><td>California</td><td>     3.500</td><td>False</td><td>        40</td></tr><tr><td><strong>2</strong></td><td>Eleni     </td><td>Texas     </td><td>     5.200</td><td>True</td><td>       130</td></tr></tbody></table>"
      ],
      "text/plain": [
       "<pandas_cub_final.DataFrame at 0x19af8777580>"
      ]
     },
     "execution_count": 6,
     "metadata": {},
     "output_type": "execute_result"
    }
   ],
   "source": [
    "df_final"
   ]
  },
  {
   "cell_type": "code",
   "execution_count": 7,
   "metadata": {
    "ExecuteTime": {
     "end_time": "2020-06-28T12:20:56.692591Z",
     "start_time": "2020-06-28T12:20:56.565594Z"
    }
   },
   "outputs": [
    {
     "data": {
      "text/html": [
       "<div>\n",
       "<style scoped>\n",
       "    .dataframe tbody tr th:only-of-type {\n",
       "        vertical-align: middle;\n",
       "    }\n",
       "\n",
       "    .dataframe tbody tr th {\n",
       "        vertical-align: top;\n",
       "    }\n",
       "\n",
       "    .dataframe thead th {\n",
       "        text-align: right;\n",
       "    }\n",
       "</style>\n",
       "<table border=\"1\" class=\"dataframe\">\n",
       "  <thead>\n",
       "    <tr style=\"text-align: right;\">\n",
       "      <th></th>\n",
       "      <th>name</th>\n",
       "      <th>state</th>\n",
       "      <th>height</th>\n",
       "      <th>school</th>\n",
       "      <th>weight</th>\n",
       "    </tr>\n",
       "  </thead>\n",
       "  <tbody>\n",
       "    <tr>\n",
       "      <th>0</th>\n",
       "      <td>Penelope</td>\n",
       "      <td>Texas</td>\n",
       "      <td>3.6</td>\n",
       "      <td>True</td>\n",
       "      <td>45</td>\n",
       "    </tr>\n",
       "    <tr>\n",
       "      <th>1</th>\n",
       "      <td>Niko</td>\n",
       "      <td>California</td>\n",
       "      <td>3.5</td>\n",
       "      <td>False</td>\n",
       "      <td>40</td>\n",
       "    </tr>\n",
       "    <tr>\n",
       "      <th>2</th>\n",
       "      <td>Eleni</td>\n",
       "      <td>Texas</td>\n",
       "      <td>5.2</td>\n",
       "      <td>True</td>\n",
       "      <td>130</td>\n",
       "    </tr>\n",
       "  </tbody>\n",
       "</table>\n",
       "</div>"
      ],
      "text/plain": [
       "       name       state  height  school  weight\n",
       "0  Penelope       Texas     3.6    True      45\n",
       "1      Niko  California     3.5   False      40\n",
       "2     Eleni       Texas     5.2    True     130"
      ]
     },
     "execution_count": 7,
     "metadata": {},
     "output_type": "execute_result"
    }
   ],
   "source": [
    "df_pandas"
   ]
  },
  {
   "cell_type": "code",
   "execution_count": 12,
   "metadata": {
    "ExecuteTime": {
     "end_time": "2020-06-28T12:22:31.567928Z",
     "start_time": "2020-06-28T12:22:31.459405Z"
    }
   },
   "outputs": [
    {
     "data": {
      "text/plain": [
       "array(['Penelope', 'Niko', 'Eleni'], dtype='<U8')"
      ]
     },
     "execution_count": 12,
     "metadata": {},
     "output_type": "execute_result"
    }
   ],
   "source": [
    "list(data.values())[0]"
   ]
  },
  {
   "cell_type": "code",
   "execution_count": 14,
   "metadata": {
    "ExecuteTime": {
     "end_time": "2020-06-28T13:16:30.513175Z",
     "start_time": "2020-06-28T13:16:26.483512Z"
    }
   },
   "outputs": [
    {
     "name": "stdout",
     "output_type": "stream",
     "text": [
      "489 ns ± 27.6 ns per loop (mean ± std. dev. of 7 runs, 1000000 loops each)\n"
     ]
    }
   ],
   "source": [
    "%timeit len(list(data.values())[0])"
   ]
  },
  {
   "cell_type": "code",
   "execution_count": 18,
   "metadata": {
    "ExecuteTime": {
     "end_time": "2020-06-28T13:17:45.162209Z",
     "start_time": "2020-06-28T13:17:43.187774Z"
    }
   },
   "outputs": [
    {
     "name": "stdout",
     "output_type": "stream",
     "text": [
      "231 ns ± 7.62 ns per loop (mean ± std. dev. of 7 runs, 1000000 loops each)\n"
     ]
    }
   ],
   "source": [
    "%timeit len(next(iter(data.values())))"
   ]
  },
  {
   "cell_type": "code",
   "execution_count": null,
   "metadata": {},
   "outputs": [],
   "source": []
  }
 ],
 "metadata": {
  "hide_input": false,
  "kernelspec": {
   "display_name": "Python 3",
   "language": "python",
   "name": "python3"
  },
  "language_info": {
   "codemirror_mode": {
    "name": "ipython",
    "version": 3
   },
   "file_extension": ".py",
   "mimetype": "text/x-python",
   "name": "python",
   "nbconvert_exporter": "python",
   "pygments_lexer": "ipython3",
   "version": "3.8.3"
  }
 },
 "nbformat": 4,
 "nbformat_minor": 2
}
